{
  "nbformat": 4,
  "nbformat_minor": 0,
  "metadata": {
    "colab": {
      "name": "Question Answering - LSTM_Attention.ipynb",
      "provenance": [],
      "collapsed_sections": [],
      "toc_visible": true
    },
    "kernelspec": {
      "name": "python3",
      "display_name": "Python 3"
    },
    "language_info": {
      "name": "python"
    },
    "gpuClass": "standard",
    "accelerator": "GPU"
  },
  "cells": [
    {
      "cell_type": "code",
      "source": [
        "%cd '/content/drive/MyDrive/Training AI/NLP Tutorial/Question Answering'"
      ],
      "metadata": {
        "colab": {
          "base_uri": "https://localhost:8080/"
        },
        "id": "CFBXyfER6xPv",
        "outputId": "13b6e1db-3aa6-40ab-a0b8-53bbe4ec918d"
      },
      "execution_count": 1,
      "outputs": [
        {
          "output_type": "stream",
          "name": "stdout",
          "text": [
            "/content/drive/MyDrive/Training AI/NLP Tutorial/Question Answering\n"
          ]
        }
      ]
    },
    {
      "cell_type": "markdown",
      "source": [
        "#Import Libraries"
      ],
      "metadata": {
        "id": "ka_VTsYBqAhU"
      }
    },
    {
      "cell_type": "code",
      "execution_count": 2,
      "metadata": {
        "id": "Q3uk7fFZZ4CE"
      },
      "outputs": [],
      "source": [
        "import re\n",
        "import numpy as np\n",
        "import pandas as pd\n",
        "import tensorflow as tf\n",
        "from tensorflow.keras.utils import to_categorical\n",
        "from tensorflow.keras.models import Model\n",
        "from tensorflow.keras.layers import Dense, Embedding, LSTM, Input, Bidirectional, Concatenate\n",
        "from tensorflow.keras.layers import AdditiveAttention"
      ]
    },
    {
      "cell_type": "markdown",
      "source": [
        "#Open dataset\n"
      ],
      "metadata": {
        "id": "iRC6utGNqLX8"
      }
    },
    {
      "cell_type": "code",
      "source": [
        "line_path = \"/content/drive/MyDrive/Training AI/NLP Tutorial/Question Answering/datasets/archive/cornell movie-dialogs corpus/movie_lines.txt\"\n",
        "conver_path = \"/content/drive/MyDrive/Training AI/NLP Tutorial/Question Answering/datasets/archive/cornell movie-dialogs corpus/movie_conversations.txt\""
      ],
      "metadata": {
        "id": "CIRqGGg1hFVg"
      },
      "execution_count": 3,
      "outputs": []
    },
    {
      "cell_type": "code",
      "source": [
        "lines = open(line_path, encoding='utf-8',\n",
        "             errors='ignore').read().split('\\n')\n",
        "\n",
        "convers = open(conver_path, encoding='utf-8',\n",
        "             errors='ignore').read().split('\\n')"
      ],
      "metadata": {
        "id": "LNnik2tHhCNu"
      },
      "execution_count": 4,
      "outputs": []
    },
    {
      "cell_type": "code",
      "source": [
        "lines[:10]"
      ],
      "metadata": {
        "colab": {
          "base_uri": "https://localhost:8080/"
        },
        "id": "Hv3s-aJei1e2",
        "outputId": "506b62bc-c2f4-48d6-89ea-67f9bb1424e5"
      },
      "execution_count": 5,
      "outputs": [
        {
          "output_type": "execute_result",
          "data": {
            "text/plain": [
              "['L1045 +++$+++ u0 +++$+++ m0 +++$+++ BIANCA +++$+++ They do not!',\n",
              " 'L1044 +++$+++ u2 +++$+++ m0 +++$+++ CAMERON +++$+++ They do to!',\n",
              " 'L985 +++$+++ u0 +++$+++ m0 +++$+++ BIANCA +++$+++ I hope so.',\n",
              " 'L984 +++$+++ u2 +++$+++ m0 +++$+++ CAMERON +++$+++ She okay?',\n",
              " \"L925 +++$+++ u0 +++$+++ m0 +++$+++ BIANCA +++$+++ Let's go.\",\n",
              " 'L924 +++$+++ u2 +++$+++ m0 +++$+++ CAMERON +++$+++ Wow',\n",
              " \"L872 +++$+++ u0 +++$+++ m0 +++$+++ BIANCA +++$+++ Okay -- you're gonna need to learn how to lie.\",\n",
              " 'L871 +++$+++ u2 +++$+++ m0 +++$+++ CAMERON +++$+++ No',\n",
              " 'L870 +++$+++ u0 +++$+++ m0 +++$+++ BIANCA +++$+++ I\\'m kidding.  You know how sometimes you just become this \"persona\"?  And you don\\'t know how to quit?',\n",
              " 'L869 +++$+++ u0 +++$+++ m0 +++$+++ BIANCA +++$+++ Like my fear of wearing pastels?']"
            ]
          },
          "metadata": {},
          "execution_count": 5
        }
      ]
    },
    {
      "cell_type": "code",
      "source": [
        "print(len(lines))\n",
        "print(len(convers))"
      ],
      "metadata": {
        "colab": {
          "base_uri": "https://localhost:8080/"
        },
        "id": "z-UDO8SihhO2",
        "outputId": "23cde605-daef-422c-d03a-e7ed4dceea72"
      },
      "execution_count": 6,
      "outputs": [
        {
          "output_type": "stream",
          "name": "stdout",
          "text": [
            "304714\n",
            "83098\n"
          ]
        }
      ]
    },
    {
      "cell_type": "markdown",
      "source": [
        "#Preprocessing"
      ],
      "metadata": {
        "id": "t2f--95flimY"
      }
    },
    {
      "cell_type": "code",
      "source": [
        "convers[0].split(' +++$+++ ')[-1][1:-1].replace(\"'\", '').replace(\",\",\"\").split()"
      ],
      "metadata": {
        "colab": {
          "base_uri": "https://localhost:8080/"
        },
        "id": "IInVy29YjEO2",
        "outputId": "fe6f1da7-c189-4a48-cc1a-65378b7b3411"
      },
      "execution_count": 7,
      "outputs": [
        {
          "output_type": "execute_result",
          "data": {
            "text/plain": [
              "['L194', 'L195', 'L196', 'L197']"
            ]
          },
          "metadata": {},
          "execution_count": 7
        }
      ]
    },
    {
      "cell_type": "code",
      "source": [
        "lines[0].split(' +++$+++ ')[-1].replace(\"'\", '')"
      ],
      "metadata": {
        "colab": {
          "base_uri": "https://localhost:8080/",
          "height": 36
        },
        "id": "cESzEbzZikxt",
        "outputId": "c75d2e19-b22b-49e6-97cc-3d8b1f135f68"
      },
      "execution_count": 8,
      "outputs": [
        {
          "output_type": "execute_result",
          "data": {
            "text/plain": [
              "'They do not!'"
            ],
            "application/vnd.google.colaboratory.intrinsic+json": {
              "type": "string"
            }
          },
          "metadata": {},
          "execution_count": 8
        }
      ]
    },
    {
      "cell_type": "code",
      "source": [
        "exchn = []\n",
        "for conver in convers:\n",
        "    exchn.append(conver.split(' +++$+++ ')[-1][1:-1].replace(\"'\", \" \").replace(\",\",\"\").split())\n"
      ],
      "metadata": {
        "id": "pDPS9I63ihSn"
      },
      "execution_count": 9,
      "outputs": []
    },
    {
      "cell_type": "code",
      "source": [
        "exchn[:10]"
      ],
      "metadata": {
        "colab": {
          "base_uri": "https://localhost:8080/"
        },
        "id": "z2n3LWsxjjGt",
        "outputId": "b0502f64-b2f2-4bd2-d844-c00a5baa9ea3"
      },
      "execution_count": 10,
      "outputs": [
        {
          "output_type": "execute_result",
          "data": {
            "text/plain": [
              "[['L194', 'L195', 'L196', 'L197'],\n",
              " ['L198', 'L199'],\n",
              " ['L200', 'L201', 'L202', 'L203'],\n",
              " ['L204', 'L205', 'L206'],\n",
              " ['L207', 'L208'],\n",
              " ['L271', 'L272', 'L273', 'L274', 'L275'],\n",
              " ['L276', 'L277'],\n",
              " ['L280', 'L281'],\n",
              " ['L363', 'L364'],\n",
              " ['L365', 'L366']]"
            ]
          },
          "metadata": {},
          "execution_count": 10
        }
      ]
    },
    {
      "cell_type": "code",
      "source": [
        "diag = {}\n",
        "for line in lines:\n",
        "    diag[line.split(' +++$+++ ')[0]] = line.split(' +++$+++ ')[-1]"
      ],
      "metadata": {
        "id": "rgSr1j5NjiPO"
      },
      "execution_count": 11,
      "outputs": []
    },
    {
      "cell_type": "code",
      "source": [
        "dict(list(diag.items())[0:10])"
      ],
      "metadata": {
        "colab": {
          "base_uri": "https://localhost:8080/"
        },
        "id": "Y87MfgKCj5jF",
        "outputId": "21a6b9a1-c074-4be3-f3ea-6dc632d8d1d6"
      },
      "execution_count": 17,
      "outputs": [
        {
          "output_type": "execute_result",
          "data": {
            "text/plain": [
              "{'L1044': 'They do to!',\n",
              " 'L1045': 'They do not!',\n",
              " 'L869': 'Like my fear of wearing pastels?',\n",
              " 'L870': 'I\\'m kidding.  You know how sometimes you just become this \"persona\"?  And you don\\'t know how to quit?',\n",
              " 'L871': 'No',\n",
              " 'L872': \"Okay -- you're gonna need to learn how to lie.\",\n",
              " 'L924': 'Wow',\n",
              " 'L925': \"Let's go.\",\n",
              " 'L984': 'She okay?',\n",
              " 'L985': 'I hope so.'}"
            ]
          },
          "metadata": {},
          "execution_count": 17
        }
      ]
    },
    {
      "cell_type": "code",
      "source": [
        "del(lines, convers, conver, line)"
      ],
      "metadata": {
        "id": "Su1FFQ71yrQY"
      },
      "execution_count": 18,
      "outputs": []
    },
    {
      "cell_type": "code",
      "source": [
        "questions = []\n",
        "answers = []\n",
        "\n",
        "for conver in exchn:\n",
        "    for i in range(len(conver) - 1):\n",
        "        questions.append(diag[conver[i]])\n",
        "        answers.append(diag[conver[i+1]])"
      ],
      "metadata": {
        "id": "qu5yA8kDj9UN"
      },
      "execution_count": 19,
      "outputs": []
    },
    {
      "cell_type": "code",
      "source": [
        "len_seq = 13"
      ],
      "metadata": {
        "id": "PdVRmBYlvDDo"
      },
      "execution_count": 20,
      "outputs": []
    },
    {
      "cell_type": "code",
      "source": [
        "del(diag, exchn, conver, i)"
      ],
      "metadata": {
        "id": "7JmfCO_hyxgP"
      },
      "execution_count": 21,
      "outputs": []
    },
    {
      "cell_type": "code",
      "source": [
        "sorted_ques = []\n",
        "sorted_ans = []\n",
        "for i in range(len(questions)):\n",
        "    if len(questions[i]) < len_seq:\n",
        "        # print(questions[i])\n",
        "        sorted_ques.append(questions[i])\n",
        "        sorted_ans.append(answers[i])"
      ],
      "metadata": {
        "id": "0hXMQWRNkW7j"
      },
      "execution_count": 22,
      "outputs": []
    },
    {
      "cell_type": "code",
      "source": [
        "def clean_text(txt):\n",
        "    txt = txt.lower()\n",
        "    txt = re.sub(r\"i'm\", \"i am\", txt)\n",
        "    txt = re.sub(r\"he's\", \"he is\", txt)\n",
        "    txt = re.sub(r\"she's\", \"she is\", txt)\n",
        "    txt = re.sub(r\"that's\", \"that is\", txt)\n",
        "    txt = re.sub(r\"what's\", \"what is\", txt)\n",
        "    txt = re.sub(r\"where's\", \"where is\", txt)\n",
        "    txt = re.sub(r\"\\'ll\", \" will\", txt)\n",
        "    txt = re.sub(r\"\\'ve\", \" have\", txt)\n",
        "    txt = re.sub(r\"\\'re\", \" are\", txt)\n",
        "    txt = re.sub(r\"\\'d\", \" would\", txt)\n",
        "    txt = re.sub(r\"won't\", \"will not\", txt)\n",
        "    txt = re.sub(r\"can't\", \"can not\", txt)\n",
        "    txt = re.sub(r\"[^\\w\\s]\", \"\", txt)\n",
        "    return txt"
      ],
      "metadata": {
        "id": "cteUBavjlZgW"
      },
      "execution_count": 23,
      "outputs": []
    },
    {
      "cell_type": "code",
      "source": [
        "clean_ques = []\n",
        "clean_ans = []\n",
        "\n",
        "for line in sorted_ques:\n",
        "    clean_ques.append(clean_text(line))\n",
        "    \n",
        "for line in sorted_ans:\n",
        "    clean_ans.append(clean_text(line))\n",
        "\n",
        "for i in range(len(clean_ans)):\n",
        "    clean_ans[i] = ' '.join(clean_ans[i].split()[:11])"
      ],
      "metadata": {
        "id": "LpOHlKJclcI1"
      },
      "execution_count": 24,
      "outputs": []
    },
    {
      "cell_type": "code",
      "source": [
        "clean_ques[:10]"
      ],
      "metadata": {
        "colab": {
          "base_uri": "https://localhost:8080/"
        },
        "id": "oWK723ZOl2Ur",
        "outputId": "fcec1587-2cb6-433e-86ef-91615d148f50"
      },
      "execution_count": 25,
      "outputs": [
        {
          "output_type": "execute_result",
          "data": {
            "text/plain": [
              "['cameron',\n",
              " 'why',\n",
              " 'there',\n",
              " 'sure have',\n",
              " 'hi',\n",
              " 'i was',\n",
              " 'well no',\n",
              " 'but',\n",
              " 'what crap',\n",
              " 'no']"
            ]
          },
          "metadata": {},
          "execution_count": 25
        }
      ]
    },
    {
      "cell_type": "code",
      "source": [
        "print(len(clean_ques))\n",
        "print(len(clean_ans))"
      ],
      "metadata": {
        "colab": {
          "base_uri": "https://localhost:8080/"
        },
        "id": "LkhC5rwilgqU",
        "outputId": "bba589f0-7a4e-4925-b1ff-63800d76f548"
      },
      "execution_count": 26,
      "outputs": [
        {
          "output_type": "stream",
          "name": "stdout",
          "text": [
            "31416\n",
            "31416\n"
          ]
        }
      ]
    },
    {
      "cell_type": "code",
      "source": [
        "del(answers, questions, line,sorted_ans, sorted_ques)"
      ],
      "metadata": {
        "id": "M4qJW1Bfy0bY"
      },
      "execution_count": 27,
      "outputs": []
    },
    {
      "cell_type": "code",
      "source": [
        "# trimming\n",
        "clean_ans=clean_ans[:30000]\n",
        "clean_ques=clean_ques[:30000]"
      ],
      "metadata": {
        "id": "GDDcU6olus5h"
      },
      "execution_count": 28,
      "outputs": []
    },
    {
      "cell_type": "code",
      "source": [
        "#  Count Occurences \n",
        "word2count = {}\n",
        "\n",
        "for line in clean_ques:\n",
        "    for word in line.split():\n",
        "        if word not in word2count:\n",
        "            word2count[word] = 1\n",
        "        else:\n",
        "            word2count[word] += 1\n",
        "            \n",
        "for line in clean_ans:\n",
        "    for word in line.split():\n",
        "        if word not in word2count:\n",
        "            word2count[word] = 1\n",
        "        else:\n",
        "            word2count[word] += 1"
      ],
      "metadata": {
        "id": "WUNQ5nuCluGr"
      },
      "execution_count": 29,
      "outputs": []
    },
    {
      "cell_type": "code",
      "source": [
        "print(len(word2count))"
      ],
      "metadata": {
        "colab": {
          "base_uri": "https://localhost:8080/"
        },
        "id": "hGciuokPmD37",
        "outputId": "b0bb12bc-9d2e-4223-c021-c0df7c6ca709"
      },
      "execution_count": 30,
      "outputs": [
        {
          "output_type": "stream",
          "name": "stdout",
          "text": [
            "15843\n"
          ]
        }
      ]
    },
    {
      "cell_type": "code",
      "source": [
        "del(word, line)"
      ],
      "metadata": {
        "id": "c8Q51OlOy4EY"
      },
      "execution_count": 31,
      "outputs": []
    },
    {
      "cell_type": "code",
      "source": [
        "thresh = 5\n",
        "vocab = {}\n",
        "word_num = 0\n",
        "for word, count in word2count.items():\n",
        "    if count >= thresh:\n",
        "        vocab[word] = word_num\n",
        "        word_num += 1"
      ],
      "metadata": {
        "id": "IWqUBOM4mJmz"
      },
      "execution_count": 32,
      "outputs": []
    },
    {
      "cell_type": "code",
      "source": [
        "del(word2count, word, count, thresh,word_num)      "
      ],
      "metadata": {
        "id": "iw8Ob9FAy79K"
      },
      "execution_count": 33,
      "outputs": []
    },
    {
      "cell_type": "code",
      "source": [
        "print(len(vocab))"
      ],
      "metadata": {
        "colab": {
          "base_uri": "https://localhost:8080/"
        },
        "id": "zvXIR30rmWcM",
        "outputId": "174ae580-16ee-487c-cff9-512680a27808"
      },
      "execution_count": 34,
      "outputs": [
        {
          "output_type": "stream",
          "name": "stdout",
          "text": [
            "3023\n"
          ]
        }
      ]
    },
    {
      "cell_type": "code",
      "source": [
        "dict(list(vocab.items())[0:10])"
      ],
      "metadata": {
        "colab": {
          "base_uri": "https://localhost:8080/"
        },
        "id": "LEobxXDjm3qH",
        "outputId": "5168d7df-be05-4b86-c043-b39f0ab9c166"
      },
      "execution_count": 36,
      "outputs": [
        {
          "output_type": "execute_result",
          "data": {
            "text/plain": [
              "{'cameron': 0,\n",
              " 'have': 4,\n",
              " 'hi': 5,\n",
              " 'i': 6,\n",
              " 'no': 9,\n",
              " 'sure': 3,\n",
              " 'there': 2,\n",
              " 'was': 7,\n",
              " 'well': 8,\n",
              " 'why': 1}"
            ]
          },
          "metadata": {},
          "execution_count": 36
        }
      ]
    },
    {
      "cell_type": "code",
      "source": [
        "for i in range(len(clean_ans)):\n",
        "    clean_ans[i] = '<SOS> ' + clean_ans[i] + ' <EOS>'\n",
        "\n",
        "tokens = ['<PAD>', '<EOS>', '<OUT>', '<SOS>']\n",
        "x = len(vocab)\n",
        "\n",
        "for token in tokens:\n",
        "    vocab[token] = x\n",
        "    x += 1\n",
        "    \n",
        "vocab['cameron'] = vocab['<PAD>']\n",
        "vocab['<PAD>'] = 0"
      ],
      "metadata": {
        "id": "zWChbQAymQ80"
      },
      "execution_count": 37,
      "outputs": []
    },
    {
      "cell_type": "code",
      "source": [
        "# Inverse Answers Dictionary \n",
        "inv_vocab = {w:v for v, w in vocab.items()}"
      ],
      "metadata": {
        "id": "UIc0e5mMnBvj"
      },
      "execution_count": 38,
      "outputs": []
    },
    {
      "cell_type": "code",
      "source": [
        "encoder_inp = []\n",
        "for line in clean_ques:\n",
        "    lst = []\n",
        "    for word in line.split():\n",
        "        if word not in vocab:\n",
        "            lst.append(vocab['<OUT>'])\n",
        "        else:\n",
        "            lst.append(vocab[word])\n",
        "        \n",
        "    encoder_inp.append(lst)"
      ],
      "metadata": {
        "id": "D6wwf9vbnMNb"
      },
      "execution_count": 39,
      "outputs": []
    },
    {
      "cell_type": "code",
      "source": [
        "decoder_inp = []\n",
        "for line in clean_ans:\n",
        "    lst = []\n",
        "    for word in line.split():\n",
        "        if word not in vocab:\n",
        "            lst.append(vocab['<OUT>'])\n",
        "        else:\n",
        "            lst.append(vocab[word])        \n",
        "    decoder_inp.append(lst)"
      ],
      "metadata": {
        "id": "4ZwgKED3nX4D"
      },
      "execution_count": 40,
      "outputs": []
    },
    {
      "cell_type": "code",
      "source": [
        "del(clean_ans, clean_ques, line, lst, word)"
      ],
      "metadata": {
        "id": "XMwywpGD0-Cf"
      },
      "execution_count": 41,
      "outputs": []
    },
    {
      "cell_type": "markdown",
      "source": [
        "# Padding the inputs for LSTM Model"
      ],
      "metadata": {
        "id": "Eg1LZKaqn7BT"
      }
    },
    {
      "cell_type": "code",
      "source": [
        "from tensorflow.keras.preprocessing.sequence import pad_sequences"
      ],
      "metadata": {
        "id": "iAXcnim6nbKa"
      },
      "execution_count": 36,
      "outputs": []
    },
    {
      "cell_type": "code",
      "source": [
        "encoder_inp = pad_sequences(encoder_inp, len_seq, padding='post', truncating='post')\n",
        "decoder_inp = pad_sequences(decoder_inp, len_seq, padding='post', truncating='post')\n",
        "decoder_final_output = []"
      ],
      "metadata": {
        "id": "rKNiPPqjn-DD"
      },
      "execution_count": 37,
      "outputs": []
    },
    {
      "cell_type": "code",
      "source": [
        "print(encoder_inp[0])\n",
        "print(encoder_inp[1])\n",
        "print(encoder_inp[3])\n",
        "print(encoder_inp[4])\n",
        "print(encoder_inp[5])"
      ],
      "metadata": {
        "colab": {
          "base_uri": "https://localhost:8080/"
        },
        "id": "FBiMwFltoDu7",
        "outputId": "8100c4cb-9f3a-4985-84b6-c101542f3c41"
      },
      "execution_count": 38,
      "outputs": [
        {
          "output_type": "stream",
          "name": "stdout",
          "text": [
            "[3023    0    0    0    0    0    0    0    0    0    0    0    0]\n",
            "[1 0 0 0 0 0 0 0 0 0 0 0 0]\n",
            "[3 4 0 0 0 0 0 0 0 0 0 0 0]\n",
            "[5 0 0 0 0 0 0 0 0 0 0 0 0]\n",
            "[6 7 0 0 0 0 0 0 0 0 0 0 0]\n"
          ]
        }
      ]
    },
    {
      "cell_type": "code",
      "source": [
        "print(decoder_inp[1])\n",
        "print(decoder_inp[2])\n",
        "print(decoder_inp[3])\n",
        "print(decoder_inp[4])"
      ],
      "metadata": {
        "colab": {
          "base_uri": "https://localhost:8080/"
        },
        "id": "aUMTEswwqo5k",
        "outputId": "948ce10d-3786-491c-e273-22b1a83f5fb7"
      },
      "execution_count": 39,
      "outputs": [
        {
          "output_type": "stream",
          "name": "stdout",
          "text": [
            "[3026 3025  938   14 1042   18  227  125 2234   70   14 2235 3024]\n",
            "[3026  151 3024    0    0    0    0    0    0    0    0    0    0]\n",
            "[3026    6  125  125  125 1035   31   10    6  235   29   29 3024]\n",
            "[3026 1482  364  883  986   35  105   64 3024    0    0    0    0]\n"
          ]
        }
      ]
    },
    {
      "cell_type": "code",
      "source": [
        "for i in decoder_inp:\n",
        "    decoder_final_output.append(i[1:]) \n",
        "decoder_final_output = pad_sequences(decoder_final_output, len_seq, padding='post', truncating='post')"
      ],
      "metadata": {
        "id": "ZgDiuii5qT9r"
      },
      "execution_count": 40,
      "outputs": []
    },
    {
      "cell_type": "code",
      "source": [
        "decoder_final_output[1]"
      ],
      "metadata": {
        "colab": {
          "base_uri": "https://localhost:8080/"
        },
        "id": "J_GeOXe9uXVp",
        "outputId": "aa50d14b-3ed7-447c-96ae-7a0d9259fe82"
      },
      "execution_count": 41,
      "outputs": [
        {
          "output_type": "execute_result",
          "data": {
            "text/plain": [
              "array([3025,  938,   14, 1042,   18,  227,  125, 2234,   70,   14, 2235,\n",
              "       3024,    0], dtype=int32)"
            ]
          },
          "metadata": {},
          "execution_count": 41
        }
      ]
    },
    {
      "cell_type": "code",
      "source": [
        "len(decoder_final_output)"
      ],
      "metadata": {
        "colab": {
          "base_uri": "https://localhost:8080/"
        },
        "id": "R_5U-miRu9hh",
        "outputId": "929101db-ab51-4c35-98e9-33b17d701692"
      },
      "execution_count": 42,
      "outputs": [
        {
          "output_type": "execute_result",
          "data": {
            "text/plain": [
              "30000"
            ]
          },
          "metadata": {},
          "execution_count": 42
        }
      ]
    },
    {
      "cell_type": "code",
      "source": [
        "# Label Encoding\n",
        "decoder_final_output = to_categorical(decoder_final_output, len(vocab))\n",
        "print(decoder_final_output.shape)"
      ],
      "metadata": {
        "colab": {
          "base_uri": "https://localhost:8080/"
        },
        "id": "6k3Z7tuouUSg",
        "outputId": "ccd2f9f5-0f2c-4f70-ea37-b32683cb3d48"
      },
      "execution_count": 43,
      "outputs": [
        {
          "output_type": "stream",
          "name": "stdout",
          "text": [
            "(30000, 13, 3027)\n"
          ]
        }
      ]
    },
    {
      "cell_type": "code",
      "source": [
        "decoder_final_output[1].shape"
      ],
      "metadata": {
        "colab": {
          "base_uri": "https://localhost:8080/"
        },
        "id": "uDRi65xzugiC",
        "outputId": "a99c01d7-82f1-4051-e45e-dafa97b9bbe8"
      },
      "execution_count": 44,
      "outputs": [
        {
          "output_type": "execute_result",
          "data": {
            "text/plain": [
              "(13, 3027)"
            ]
          },
          "metadata": {},
          "execution_count": 44
        }
      ]
    },
    {
      "cell_type": "code",
      "source": [
        "print(decoder_final_output.shape)"
      ],
      "metadata": {
        "colab": {
          "base_uri": "https://localhost:8080/"
        },
        "id": "caRbyg14reej",
        "outputId": "c12b3870-b2f1-4bb4-cd4a-bc0b4cdaa651"
      },
      "execution_count": 45,
      "outputs": [
        {
          "output_type": "stream",
          "name": "stdout",
          "text": [
            "(30000, 13, 3027)\n"
          ]
        }
      ]
    },
    {
      "cell_type": "markdown",
      "source": [
        "# Creating Encoding Model Using LSTM"
      ],
      "metadata": {
        "id": "QBwVdsKMrrIB"
      }
    },
    {
      "cell_type": "markdown",
      "source": [
        "##Input"
      ],
      "metadata": {
        "id": "D6LTV8sD12V-"
      }
    },
    {
      "cell_type": "markdown",
      "source": [
        "###Define"
      ],
      "metadata": {
        "id": "ghdknlR3137a"
      }
    },
    {
      "cell_type": "code",
      "source": [
        "enc_inp = Input(shape=(len_seq, ))\n",
        "dec_inp = Input(shape=(len_seq, ))"
      ],
      "metadata": {
        "id": "THCfFRAOrtIc"
      },
      "execution_count": 46,
      "outputs": []
    },
    {
      "cell_type": "markdown",
      "source": [
        "###Example"
      ],
      "metadata": {
        "id": "N11CN6Dx15kR"
      }
    },
    {
      "cell_type": "code",
      "source": [
        "enc_inp"
      ],
      "metadata": {
        "colab": {
          "base_uri": "https://localhost:8080/"
        },
        "id": "Kd4-5o-32K98",
        "outputId": "53bb4e67-0a4d-45d7-9e58-cacfe570f406"
      },
      "execution_count": 47,
      "outputs": [
        {
          "output_type": "execute_result",
          "data": {
            "text/plain": [
              "<KerasTensor: shape=(None, 13) dtype=float32 (created by layer 'input_1')>"
            ]
          },
          "metadata": {},
          "execution_count": 47
        }
      ]
    },
    {
      "cell_type": "code",
      "source": [
        "sample_enc_inp = tf.random.uniform([13])\n",
        "sample_enc_inp"
      ],
      "metadata": {
        "colab": {
          "base_uri": "https://localhost:8080/"
        },
        "id": "pCsS1oD9164y",
        "outputId": "aca2644a-9a9a-4d94-a465-08141b7efa8a"
      },
      "execution_count": 48,
      "outputs": [
        {
          "output_type": "execute_result",
          "data": {
            "text/plain": [
              "<tf.Tensor: shape=(13,), dtype=float32, numpy=\n",
              "array([0.7001265 , 0.4970715 , 0.6055653 , 0.7484348 , 0.00121987,\n",
              "       0.6239786 , 0.78449583, 0.6244222 , 0.6705291 , 0.8587234 ,\n",
              "       0.16885614, 0.07220101, 0.6561794 ], dtype=float32)>"
            ]
          },
          "metadata": {},
          "execution_count": 48
        }
      ]
    },
    {
      "cell_type": "markdown",
      "source": [
        "##Embedding"
      ],
      "metadata": {
        "id": "o7djxeqG10oB"
      }
    },
    {
      "cell_type": "markdown",
      "source": [
        "###Define"
      ],
      "metadata": {
        "id": "kkevJiFN2hM5"
      }
    },
    {
      "cell_type": "code",
      "source": [
        "VOCAB_SIZE = len(vocab)\n",
        "embed = Embedding(VOCAB_SIZE+1, output_dim=50, \n",
        "                  input_length=len_seq,\n",
        "                  trainable=True                  \n",
        "                  )\n"
      ],
      "metadata": {
        "id": "QS4FUI37rwei"
      },
      "execution_count": 49,
      "outputs": []
    },
    {
      "cell_type": "markdown",
      "source": [
        "###Example"
      ],
      "metadata": {
        "id": "BnyRbqei2jLv"
      }
    },
    {
      "cell_type": "code",
      "source": [
        "sample_embed_output = embed(sample_enc_inp)\n",
        "print('Sample Input shape:',sample_enc_inp.shape)\n",
        "print('Embedding shape:',sample_embed_output.shape)\n",
        "print('Sample Embedding output:',sample_embed_output)\n"
      ],
      "metadata": {
        "colab": {
          "base_uri": "https://localhost:8080/"
        },
        "id": "qbOuJu4f2geI",
        "outputId": "b1b61694-32ca-4d85-dd49-c80087d4706f"
      },
      "execution_count": 50,
      "outputs": [
        {
          "output_type": "stream",
          "name": "stdout",
          "text": [
            "Sample Input shape: (13,)\n",
            "Embedding shape: (13, 50)\n",
            "Sample Embedding output: tf.Tensor(\n",
            "[[ 0.01936317 -0.01088672 -0.04592518  0.04225529 -0.02150883 -0.02451255\n",
            "   0.04323376  0.04236109 -0.02838469 -0.01695157  0.04597339 -0.00625571\n",
            "  -0.02547598  0.02164024 -0.03197128  0.01661642 -0.00154318 -0.02228051\n",
            "   0.03335586 -0.04345443 -0.01828034 -0.0427439  -0.03989242  0.0277716\n",
            "  -0.0080427   0.03956682 -0.00892466  0.04158759 -0.01139046 -0.04677073\n",
            "  -0.02946305 -0.03070389  0.00944073 -0.00595182  0.00897158 -0.00444914\n",
            "  -0.01971393  0.02457816 -0.00492668 -0.00213995  0.02259708  0.0439817\n",
            "   0.03988191 -0.03934822 -0.02032069 -0.03374827 -0.02982423  0.00772643\n",
            "  -0.03224834  0.00532309]\n",
            " [ 0.01936317 -0.01088672 -0.04592518  0.04225529 -0.02150883 -0.02451255\n",
            "   0.04323376  0.04236109 -0.02838469 -0.01695157  0.04597339 -0.00625571\n",
            "  -0.02547598  0.02164024 -0.03197128  0.01661642 -0.00154318 -0.02228051\n",
            "   0.03335586 -0.04345443 -0.01828034 -0.0427439  -0.03989242  0.0277716\n",
            "  -0.0080427   0.03956682 -0.00892466  0.04158759 -0.01139046 -0.04677073\n",
            "  -0.02946305 -0.03070389  0.00944073 -0.00595182  0.00897158 -0.00444914\n",
            "  -0.01971393  0.02457816 -0.00492668 -0.00213995  0.02259708  0.0439817\n",
            "   0.03988191 -0.03934822 -0.02032069 -0.03374827 -0.02982423  0.00772643\n",
            "  -0.03224834  0.00532309]\n",
            " [ 0.01936317 -0.01088672 -0.04592518  0.04225529 -0.02150883 -0.02451255\n",
            "   0.04323376  0.04236109 -0.02838469 -0.01695157  0.04597339 -0.00625571\n",
            "  -0.02547598  0.02164024 -0.03197128  0.01661642 -0.00154318 -0.02228051\n",
            "   0.03335586 -0.04345443 -0.01828034 -0.0427439  -0.03989242  0.0277716\n",
            "  -0.0080427   0.03956682 -0.00892466  0.04158759 -0.01139046 -0.04677073\n",
            "  -0.02946305 -0.03070389  0.00944073 -0.00595182  0.00897158 -0.00444914\n",
            "  -0.01971393  0.02457816 -0.00492668 -0.00213995  0.02259708  0.0439817\n",
            "   0.03988191 -0.03934822 -0.02032069 -0.03374827 -0.02982423  0.00772643\n",
            "  -0.03224834  0.00532309]\n",
            " [ 0.01936317 -0.01088672 -0.04592518  0.04225529 -0.02150883 -0.02451255\n",
            "   0.04323376  0.04236109 -0.02838469 -0.01695157  0.04597339 -0.00625571\n",
            "  -0.02547598  0.02164024 -0.03197128  0.01661642 -0.00154318 -0.02228051\n",
            "   0.03335586 -0.04345443 -0.01828034 -0.0427439  -0.03989242  0.0277716\n",
            "  -0.0080427   0.03956682 -0.00892466  0.04158759 -0.01139046 -0.04677073\n",
            "  -0.02946305 -0.03070389  0.00944073 -0.00595182  0.00897158 -0.00444914\n",
            "  -0.01971393  0.02457816 -0.00492668 -0.00213995  0.02259708  0.0439817\n",
            "   0.03988191 -0.03934822 -0.02032069 -0.03374827 -0.02982423  0.00772643\n",
            "  -0.03224834  0.00532309]\n",
            " [ 0.01936317 -0.01088672 -0.04592518  0.04225529 -0.02150883 -0.02451255\n",
            "   0.04323376  0.04236109 -0.02838469 -0.01695157  0.04597339 -0.00625571\n",
            "  -0.02547598  0.02164024 -0.03197128  0.01661642 -0.00154318 -0.02228051\n",
            "   0.03335586 -0.04345443 -0.01828034 -0.0427439  -0.03989242  0.0277716\n",
            "  -0.0080427   0.03956682 -0.00892466  0.04158759 -0.01139046 -0.04677073\n",
            "  -0.02946305 -0.03070389  0.00944073 -0.00595182  0.00897158 -0.00444914\n",
            "  -0.01971393  0.02457816 -0.00492668 -0.00213995  0.02259708  0.0439817\n",
            "   0.03988191 -0.03934822 -0.02032069 -0.03374827 -0.02982423  0.00772643\n",
            "  -0.03224834  0.00532309]\n",
            " [ 0.01936317 -0.01088672 -0.04592518  0.04225529 -0.02150883 -0.02451255\n",
            "   0.04323376  0.04236109 -0.02838469 -0.01695157  0.04597339 -0.00625571\n",
            "  -0.02547598  0.02164024 -0.03197128  0.01661642 -0.00154318 -0.02228051\n",
            "   0.03335586 -0.04345443 -0.01828034 -0.0427439  -0.03989242  0.0277716\n",
            "  -0.0080427   0.03956682 -0.00892466  0.04158759 -0.01139046 -0.04677073\n",
            "  -0.02946305 -0.03070389  0.00944073 -0.00595182  0.00897158 -0.00444914\n",
            "  -0.01971393  0.02457816 -0.00492668 -0.00213995  0.02259708  0.0439817\n",
            "   0.03988191 -0.03934822 -0.02032069 -0.03374827 -0.02982423  0.00772643\n",
            "  -0.03224834  0.00532309]\n",
            " [ 0.01936317 -0.01088672 -0.04592518  0.04225529 -0.02150883 -0.02451255\n",
            "   0.04323376  0.04236109 -0.02838469 -0.01695157  0.04597339 -0.00625571\n",
            "  -0.02547598  0.02164024 -0.03197128  0.01661642 -0.00154318 -0.02228051\n",
            "   0.03335586 -0.04345443 -0.01828034 -0.0427439  -0.03989242  0.0277716\n",
            "  -0.0080427   0.03956682 -0.00892466  0.04158759 -0.01139046 -0.04677073\n",
            "  -0.02946305 -0.03070389  0.00944073 -0.00595182  0.00897158 -0.00444914\n",
            "  -0.01971393  0.02457816 -0.00492668 -0.00213995  0.02259708  0.0439817\n",
            "   0.03988191 -0.03934822 -0.02032069 -0.03374827 -0.02982423  0.00772643\n",
            "  -0.03224834  0.00532309]\n",
            " [ 0.01936317 -0.01088672 -0.04592518  0.04225529 -0.02150883 -0.02451255\n",
            "   0.04323376  0.04236109 -0.02838469 -0.01695157  0.04597339 -0.00625571\n",
            "  -0.02547598  0.02164024 -0.03197128  0.01661642 -0.00154318 -0.02228051\n",
            "   0.03335586 -0.04345443 -0.01828034 -0.0427439  -0.03989242  0.0277716\n",
            "  -0.0080427   0.03956682 -0.00892466  0.04158759 -0.01139046 -0.04677073\n",
            "  -0.02946305 -0.03070389  0.00944073 -0.00595182  0.00897158 -0.00444914\n",
            "  -0.01971393  0.02457816 -0.00492668 -0.00213995  0.02259708  0.0439817\n",
            "   0.03988191 -0.03934822 -0.02032069 -0.03374827 -0.02982423  0.00772643\n",
            "  -0.03224834  0.00532309]\n",
            " [ 0.01936317 -0.01088672 -0.04592518  0.04225529 -0.02150883 -0.02451255\n",
            "   0.04323376  0.04236109 -0.02838469 -0.01695157  0.04597339 -0.00625571\n",
            "  -0.02547598  0.02164024 -0.03197128  0.01661642 -0.00154318 -0.02228051\n",
            "   0.03335586 -0.04345443 -0.01828034 -0.0427439  -0.03989242  0.0277716\n",
            "  -0.0080427   0.03956682 -0.00892466  0.04158759 -0.01139046 -0.04677073\n",
            "  -0.02946305 -0.03070389  0.00944073 -0.00595182  0.00897158 -0.00444914\n",
            "  -0.01971393  0.02457816 -0.00492668 -0.00213995  0.02259708  0.0439817\n",
            "   0.03988191 -0.03934822 -0.02032069 -0.03374827 -0.02982423  0.00772643\n",
            "  -0.03224834  0.00532309]\n",
            " [ 0.01936317 -0.01088672 -0.04592518  0.04225529 -0.02150883 -0.02451255\n",
            "   0.04323376  0.04236109 -0.02838469 -0.01695157  0.04597339 -0.00625571\n",
            "  -0.02547598  0.02164024 -0.03197128  0.01661642 -0.00154318 -0.02228051\n",
            "   0.03335586 -0.04345443 -0.01828034 -0.0427439  -0.03989242  0.0277716\n",
            "  -0.0080427   0.03956682 -0.00892466  0.04158759 -0.01139046 -0.04677073\n",
            "  -0.02946305 -0.03070389  0.00944073 -0.00595182  0.00897158 -0.00444914\n",
            "  -0.01971393  0.02457816 -0.00492668 -0.00213995  0.02259708  0.0439817\n",
            "   0.03988191 -0.03934822 -0.02032069 -0.03374827 -0.02982423  0.00772643\n",
            "  -0.03224834  0.00532309]\n",
            " [ 0.01936317 -0.01088672 -0.04592518  0.04225529 -0.02150883 -0.02451255\n",
            "   0.04323376  0.04236109 -0.02838469 -0.01695157  0.04597339 -0.00625571\n",
            "  -0.02547598  0.02164024 -0.03197128  0.01661642 -0.00154318 -0.02228051\n",
            "   0.03335586 -0.04345443 -0.01828034 -0.0427439  -0.03989242  0.0277716\n",
            "  -0.0080427   0.03956682 -0.00892466  0.04158759 -0.01139046 -0.04677073\n",
            "  -0.02946305 -0.03070389  0.00944073 -0.00595182  0.00897158 -0.00444914\n",
            "  -0.01971393  0.02457816 -0.00492668 -0.00213995  0.02259708  0.0439817\n",
            "   0.03988191 -0.03934822 -0.02032069 -0.03374827 -0.02982423  0.00772643\n",
            "  -0.03224834  0.00532309]\n",
            " [ 0.01936317 -0.01088672 -0.04592518  0.04225529 -0.02150883 -0.02451255\n",
            "   0.04323376  0.04236109 -0.02838469 -0.01695157  0.04597339 -0.00625571\n",
            "  -0.02547598  0.02164024 -0.03197128  0.01661642 -0.00154318 -0.02228051\n",
            "   0.03335586 -0.04345443 -0.01828034 -0.0427439  -0.03989242  0.0277716\n",
            "  -0.0080427   0.03956682 -0.00892466  0.04158759 -0.01139046 -0.04677073\n",
            "  -0.02946305 -0.03070389  0.00944073 -0.00595182  0.00897158 -0.00444914\n",
            "  -0.01971393  0.02457816 -0.00492668 -0.00213995  0.02259708  0.0439817\n",
            "   0.03988191 -0.03934822 -0.02032069 -0.03374827 -0.02982423  0.00772643\n",
            "  -0.03224834  0.00532309]\n",
            " [ 0.01936317 -0.01088672 -0.04592518  0.04225529 -0.02150883 -0.02451255\n",
            "   0.04323376  0.04236109 -0.02838469 -0.01695157  0.04597339 -0.00625571\n",
            "  -0.02547598  0.02164024 -0.03197128  0.01661642 -0.00154318 -0.02228051\n",
            "   0.03335586 -0.04345443 -0.01828034 -0.0427439  -0.03989242  0.0277716\n",
            "  -0.0080427   0.03956682 -0.00892466  0.04158759 -0.01139046 -0.04677073\n",
            "  -0.02946305 -0.03070389  0.00944073 -0.00595182  0.00897158 -0.00444914\n",
            "  -0.01971393  0.02457816 -0.00492668 -0.00213995  0.02259708  0.0439817\n",
            "   0.03988191 -0.03934822 -0.02032069 -0.03374827 -0.02982423  0.00772643\n",
            "  -0.03224834  0.00532309]], shape=(13, 50), dtype=float32)\n"
          ]
        }
      ]
    },
    {
      "cell_type": "markdown",
      "source": [
        "##Encoder"
      ],
      "metadata": {
        "id": "r0n3NW4lz3ZA"
      }
    },
    {
      "cell_type": "markdown",
      "source": [
        "###Define"
      ],
      "metadata": {
        "id": "tUmtbbXnz8X-"
      }
    },
    {
      "cell_type": "code",
      "source": [
        "class Encoder(tf.keras.layers.Layer):\n",
        "    def __init__(self, input_vocab_size, embedding_dim, enc_units, len_seq,**kwargs):\n",
        "        super(Encoder, self).__init__(**kwargs)\n",
        "        self.enc_units = enc_units\n",
        "        self.input_vocab_size = input_vocab_size\n",
        "        self.len_seq = len_seq\n",
        "        self.embedding_dim = embedding_dim\n",
        "        \n",
        "        self.embed = Embedding(self.input_vocab_size, output_dim=self.embedding_dim, \n",
        "                  input_length=self.len_seq,\n",
        "                  trainable=True                  \n",
        "                  )\n",
        "        self.enc_lstm = Bidirectional(LSTM(self.enc_units, return_state=True, dropout=0.05, return_sequences = True))\n",
        "\n",
        "    def call(self, enc_inp, state=None):\n",
        "        enc_embed = self.embed(enc_inp)\n",
        "        encoder_outputs, forward_h, forward_c, backward_h, backward_c = self.enc_lstm(enc_embed)\n",
        "        state_h = Concatenate()([forward_h, backward_h])\n",
        "        state_c = Concatenate()([forward_c, backward_c])\n",
        "\n",
        "        enc_states = [state_h, state_c]\n",
        "\n",
        "        return encoder_outputs, enc_states\n",
        "\n",
        "    def get_config(self):\n",
        "\n",
        "        config = super().get_config().copy()\n",
        "        config.update({\n",
        "            'input_vocab_size': self.input_vocab_size, \n",
        "            'embedding_dim': self.embedding_dim, \n",
        "            'enc_units': self.enc_units, \n",
        "            'len_seq': self.len_seq\n",
        "        })\n",
        "        return config\n",
        "\n",
        "        \n"
      ],
      "metadata": {
        "id": "HK_DYBhIYRM7"
      },
      "execution_count": 51,
      "outputs": []
    },
    {
      "cell_type": "code",
      "source": [
        "encoder = Encoder(\n",
        "    input_vocab_size=VOCAB_SIZE+1, \n",
        "    embedding_dim=50, \n",
        "    enc_units=400,\n",
        "    len_seq=13\n",
        ")"
      ],
      "metadata": {
        "id": "IHT7kufR2H3P"
      },
      "execution_count": 52,
      "outputs": []
    },
    {
      "cell_type": "code",
      "source": [
        "encoder_outputs, enc_states = encoder(enc_inp)"
      ],
      "metadata": {
        "id": "Lq2piSl_2EIL"
      },
      "execution_count": 53,
      "outputs": []
    },
    {
      "cell_type": "code",
      "source": [
        "# enc_embed = embed(enc_inp)\n",
        "# enc_lstm = Bidirectional(LSTM(400, return_state=True, dropout=0.05, return_sequences = True))\n",
        "\n",
        "# encoder_outputs, forward_h, forward_c, backward_h, backward_c = enc_lstm(enc_embed)\n",
        "\n",
        "# state_h = Concatenate()([forward_h, backward_h])\n",
        "# state_c = Concatenate()([forward_c, backward_c])\n",
        "\n",
        "# enc_states = [state_h, state_c]"
      ],
      "metadata": {
        "id": "RxdM2sWnry9K"
      },
      "execution_count": 54,
      "outputs": []
    },
    {
      "cell_type": "markdown",
      "source": [
        "###Example"
      ],
      "metadata": {
        "id": "nBK24Kmiz9t9"
      }
    },
    {
      "cell_type": "code",
      "source": [
        "sample_encoder = Encoder(\n",
        "    input_vocab_size=VOCAB_SIZE+1, \n",
        "    embedding_dim=50, \n",
        "    enc_units=400,\n",
        "    len_seq=13\n",
        ")"
      ],
      "metadata": {
        "id": "147JxsUlbLBe"
      },
      "execution_count": 55,
      "outputs": []
    },
    {
      "cell_type": "code",
      "source": [
        "sample_encoder_output, sample_states = sample_encoder(\n",
        "    tf.random.uniform((64,13))\n",
        ")\n",
        "sample_encoder_outputs = sample_encoder_output\n",
        "sample_state_h = sample_states[0]\n",
        "sample_state_c = sample_states[1]\n",
        "print('Encoder output shape:',sample_encoder_outputs.shape)\n",
        "print('State_h output shape:',sample_state_h.shape)\n",
        "print('State_c output shape:',sample_state_c.shape)"
      ],
      "metadata": {
        "colab": {
          "base_uri": "https://localhost:8080/"
        },
        "id": "qpOixYk5dCot",
        "outputId": "ea3ff47f-23a2-4ad0-a45b-7b6270bef09a"
      },
      "execution_count": 56,
      "outputs": [
        {
          "output_type": "stream",
          "name": "stdout",
          "text": [
            "Encoder output shape: (64, 13, 800)\n",
            "State_h output shape: (64, 800)\n",
            "State_c output shape: (64, 800)\n"
          ]
        }
      ]
    },
    {
      "cell_type": "code",
      "source": [
        "# sample_encoder_output = enc_lstm(\n",
        "#     tf.random.uniform((1, 13, 50))\n",
        "# )\n",
        "# sample_encoder_outputs = sample_encoder_output[0]\n",
        "# sample_forward_h = sample_encoder_output[1]\n",
        "# sample_forward_c = sample_encoder_output[2]\n",
        "# sample_backward_h = sample_encoder_output[3]\n",
        "# sample_backward_c = sample_encoder_output[4]\n",
        "# print('Encoder output shape:',sample_encoder_outputs.shape)\n",
        "# print('Forward_h output shape:',sample_forward_h.shape)\n",
        "# print('Forward_c output shape:',sample_forward_c.shape)\n",
        "# print('Backward_h output shape:',sample_backward_h.shape)\n",
        "# print('Backward_c output shape:',sample_backward_c.shape)"
      ],
      "metadata": {
        "id": "WyA2NuORz_Zd"
      },
      "execution_count": 57,
      "outputs": []
    },
    {
      "cell_type": "code",
      "source": [
        "# sample_state_h = Concatenate()([sample_forward_h, sample_backward_h])\n",
        "# sample_state_c = Concatenate()([sample_forward_h, sample_backward_h])\n",
        "\n",
        "# print('State_h shape:',sample_state_h.shape)\n",
        "# print('State_c shape:',sample_state_c.shape)"
      ],
      "metadata": {
        "id": "8154hG2-6IsJ"
      },
      "execution_count": 58,
      "outputs": []
    },
    {
      "cell_type": "code",
      "source": [
        "# sample_enc_states = [sample_state_h, sample_state_c]\n",
        "# print('Encoder state shape:',len(sample_enc_states))\n",
        "# sample_enc_states"
      ],
      "metadata": {
        "id": "UDiM7z8r7L2A"
      },
      "execution_count": 59,
      "outputs": []
    },
    {
      "cell_type": "markdown",
      "source": [
        "##Attention Layer"
      ],
      "metadata": {
        "id": "7fbpD9sRjliJ"
      }
    },
    {
      "cell_type": "markdown",
      "source": [
        "###Define"
      ],
      "metadata": {
        "id": "pFSbdG2tjliK"
      }
    },
    {
      "cell_type": "code",
      "source": [
        "class AttentionLayer(tf.keras.layers.Layer):\n",
        "    def __init__(self, units):\n",
        "        super().__init__()\n",
        "        # units=400*2\n",
        "        self.W1 = tf.keras.layers.Dense(units, use_bias=False)\n",
        "        self.W2 = tf.keras.layers.Dense(units, use_bias=False)\n",
        "\n",
        "        self.attn_layer = AdditiveAttention(use_scale=True) \n",
        "\n",
        "    def call(self, query, value):\n",
        "        w1_query = self.W1(query)\n",
        "        w2_key = self.W2(value)\n",
        "        context_vector, attention_weights = self.attn_layer(\n",
        "            [w1_query, value, w2_key],\n",
        "            return_attention_scores = True\n",
        "        )\n",
        "\n",
        "        return context_vector, attention_weights\n"
      ],
      "metadata": {
        "id": "EyGa7ePqjliK"
      },
      "execution_count": 60,
      "outputs": []
    },
    {
      "cell_type": "markdown",
      "source": [
        "###Example"
      ],
      "metadata": {
        "id": "aP6b8FK3jm-b"
      }
    },
    {
      "cell_type": "code",
      "source": [
        "sample_attn = AttentionLayer(units=800)"
      ],
      "metadata": {
        "id": "aKyaWVdfjpSK"
      },
      "execution_count": 61,
      "outputs": []
    },
    {
      "cell_type": "code",
      "source": [
        "sample_output = tf.random.uniform((1,13,800))\n",
        "sample_encoder_outputs = tf.random.uniform((1,13,800))"
      ],
      "metadata": {
        "id": "3cIUHDWKj_-g"
      },
      "execution_count": 62,
      "outputs": []
    },
    {
      "cell_type": "code",
      "source": [
        "sample_context_vector, sample_attention_weights = sample_attn(\n",
        "    query=sample_output,\n",
        "    value=sample_encoder_outputs\n",
        ")"
      ],
      "metadata": {
        "id": "h4Oab1KskMZY"
      },
      "execution_count": 63,
      "outputs": []
    },
    {
      "cell_type": "code",
      "source": [
        "print('Context vector shape:', sample_context_vector.shape)\n",
        "print('Attention weight shape:', sample_attention_weights.shape)"
      ],
      "metadata": {
        "colab": {
          "base_uri": "https://localhost:8080/"
        },
        "id": "V5rf3n8wketZ",
        "outputId": "f6840709-fae3-4bc9-ee5a-7ed521a7ecfd"
      },
      "execution_count": 64,
      "outputs": [
        {
          "output_type": "stream",
          "name": "stdout",
          "text": [
            "Context vector shape: (1, 13, 800)\n",
            "Attention weight shape: (1, 13, 13)\n"
          ]
        }
      ]
    },
    {
      "cell_type": "code",
      "source": [
        "# sample_w1_query = W1(sample_output)\n",
        "# sample_w2_key = W2(sample_encoder_outputs)\n",
        "# sample_context_vector, sample_attention_weights = attn_layer(\n",
        "#     [sample_w1_query, sample_encoder_outputs, sample_w2_key],\n",
        "#     return_attention_scores = True\n",
        "# )\n",
        "\n",
        "# print('Context vector shape:', sample_context_vector.shape)\n",
        "# print('Attention weight shape:', sample_attention_weights.shape)\n",
        "# print('W1 query shape:', sample_w1_query.shape)"
      ],
      "metadata": {
        "id": "VV_SDX-d9hYi"
      },
      "execution_count": 65,
      "outputs": []
    },
    {
      "cell_type": "markdown",
      "source": [
        "##Decoder"
      ],
      "metadata": {
        "id": "m-vGKRKVz5Gy"
      }
    },
    {
      "cell_type": "markdown",
      "source": [
        "###Define"
      ],
      "metadata": {
        "id": "bEORjwYm0AO-"
      }
    },
    {
      "cell_type": "code",
      "source": [
        "class Decoder(tf.keras.layers.Layer):\n",
        "    def __init__(self, output_vocab_size, embedding_dim, dec_units, len_seq, **kwargs):\n",
        "        super(Decoder, self).__init__(**kwargs)\n",
        "        self.dec_units = dec_units\n",
        "        self.output_vocab_size = output_vocab_size\n",
        "        self.embedding_dim = embedding_dim\n",
        "        self.len_seq = len_seq\n",
        "\n",
        "        self.embed = Embedding(self.output_vocab_size, output_dim=embedding_dim, \n",
        "            input_length=self.len_seq,\n",
        "            trainable=True                  \n",
        "        )\n",
        "        # dec_units=400*2\n",
        "        self.dec_lstm = LSTM(dec_units, return_state=True, return_sequences=True, dropout=0.05)\n",
        "        self.attention = AttentionLayer(self.dec_units)\n",
        "\n",
        "        self.Wc = tf.keras.layers.Dense(dec_units, activation=tf.math.tanh,\n",
        "                                    use_bias=False)\n",
        "        \n",
        "        self.fc = tf.keras.layers.Dense(self.output_vocab_size, activation='softmax')\n",
        "\n",
        "    def call(self, dec_inp, enc_output, state=None):\n",
        "        dec_embed = self.embed(dec_inp)\n",
        "        output, h, c = self.dec_lstm(dec_embed, initial_state=state)\n",
        "\n",
        "        context_vector, attention_weights = self.attention(\n",
        "            query=output, value=enc_output\n",
        "        )\n",
        "\n",
        "\n",
        "        decoder_concat_input = Concatenate(axis=-1)([context_vector, output])\n",
        "\n",
        "        attention_vector = self.Wc(decoder_concat_input)\n",
        "        logits = self.fc(attention_vector)\n",
        "        state = [h, c]\n",
        "        return logits, attention_weights, state\n",
        "\n",
        "    def get_config(self):\n",
        "\n",
        "        config = super().get_config().copy()\n",
        "        config.update({\n",
        "            'output_vocab_size':self.output_vocab_size, \n",
        "            'embedding_dim':self.embedding_dim, \n",
        "            'dec_units':self.dec_units, \n",
        "            'len_seq':self.len_seq\n",
        "        })\n",
        "        return config"
      ],
      "metadata": {
        "id": "mpdfpNu7k4jh"
      },
      "execution_count": 66,
      "outputs": []
    },
    {
      "cell_type": "code",
      "source": [
        "decoder = Decoder(\n",
        "    VOCAB_SIZE,\n",
        "    embedding_dim=50, \n",
        "    dec_units=400*2,\n",
        "    len_seq=13\n",
        ")"
      ],
      "metadata": {
        "id": "enDNbtIcntnc"
      },
      "execution_count": 67,
      "outputs": []
    },
    {
      "cell_type": "code",
      "source": [
        "logits, attention_weights, state = decoder(\n",
        "    dec_inp=dec_inp,\n",
        "    enc_output=encoder_outputs, \n",
        "    state=enc_states\n",
        ")"
      ],
      "metadata": {
        "id": "xPAaq_yO234R"
      },
      "execution_count": 68,
      "outputs": []
    },
    {
      "cell_type": "markdown",
      "source": [
        "###Example"
      ],
      "metadata": {
        "id": "uVMHQYSNxLG6"
      }
    },
    {
      "cell_type": "code",
      "source": [
        "start_index = vocab['<SOS>']\n",
        "first_token = tf.constant([[start_index]] * sample_encoder_output.shape[0])\n",
        "first_token.shape"
      ],
      "metadata": {
        "colab": {
          "base_uri": "https://localhost:8080/"
        },
        "id": "Pa8eMIpNqrA4",
        "outputId": "56c5d512-9a9e-4bd6-8f72-880a3c57bb40"
      },
      "execution_count": 69,
      "outputs": [
        {
          "output_type": "execute_result",
          "data": {
            "text/plain": [
              "TensorShape([64, 1])"
            ]
          },
          "metadata": {},
          "execution_count": 69
        }
      ]
    },
    {
      "cell_type": "code",
      "source": [
        "sample_output, sample_attention_weights, sample_state = decoder(\n",
        "    dec_inp=first_token,\n",
        "    enc_output=sample_encoder_output,\n",
        "    state=sample_states\n",
        ")"
      ],
      "metadata": {
        "id": "39F7wDQ7rLI8"
      },
      "execution_count": 70,
      "outputs": []
    },
    {
      "cell_type": "code",
      "source": [
        "sample_encoder_output.shape"
      ],
      "metadata": {
        "colab": {
          "base_uri": "https://localhost:8080/"
        },
        "id": "9WdwafWqFlky",
        "outputId": "32edcf45-8670-451d-ae3c-1685025ad918"
      },
      "execution_count": 71,
      "outputs": [
        {
          "output_type": "execute_result",
          "data": {
            "text/plain": [
              "TensorShape([64, 13, 800])"
            ]
          },
          "metadata": {},
          "execution_count": 71
        }
      ]
    },
    {
      "cell_type": "code",
      "source": [
        "print(f'Output shape: (batch_size, t, output_vocab_size) {sample_output.shape}')\n",
        "print(f'State_h shape: (batch_size, dec_units) {sample_state[0].shape}')\n",
        "print(f'State_c shape: (batch_size, dec_units) {sample_state[1].shape}')"
      ],
      "metadata": {
        "colab": {
          "base_uri": "https://localhost:8080/"
        },
        "id": "51xBZwwxuQ_3",
        "outputId": "d718e351-b678-46d3-c26d-525d25fa3b72"
      },
      "execution_count": 72,
      "outputs": [
        {
          "output_type": "stream",
          "name": "stdout",
          "text": [
            "Output shape: (batch_size, t, output_vocab_size) (64, 1, 3027)\n",
            "State_h shape: (batch_size, dec_units) (64, 800)\n",
            "State_c shape: (batch_size, dec_units) (64, 800)\n"
          ]
        }
      ]
    },
    {
      "cell_type": "code",
      "source": [
        "sampled_token = tf.random.categorical(sample_output[:, 0, :], num_samples=1)\n",
        "first_word = [inv_vocab[x] for x in sampled_token.numpy().squeeze(axis=-1)]\n",
        "first_word[:5]"
      ],
      "metadata": {
        "colab": {
          "base_uri": "https://localhost:8080/"
        },
        "id": "GToOrIAKu3Im",
        "outputId": "66c30cf5-1f09-4f24-854b-4932db73bcf6"
      },
      "execution_count": 73,
      "outputs": [
        {
          "output_type": "execute_result",
          "data": {
            "text/plain": [
              "['yourself', 'grady', 'hanging', 'goodness', 'women']"
            ]
          },
          "metadata": {},
          "execution_count": 73
        }
      ]
    },
    {
      "cell_type": "code",
      "source": [
        "# dec_inp = Input(shape=(13, ))\n",
        "# dec_embed = embed(dec_inp)\n",
        "# dec_lstm = LSTM(400*2, return_state=True, return_sequences=True, dropout=0.05)\n",
        "# output, _, _ = dec_lstm(dec_embed, initial_state=enc_states)"
      ],
      "metadata": {
        "id": "OcuOZTa5-aRF"
      },
      "execution_count": 74,
      "outputs": []
    },
    {
      "cell_type": "code",
      "source": [
        "# decoder_concat_input = Concatenate(axis=-1)([context_vector, output])"
      ],
      "metadata": {
        "id": "GE0ZvKidCp8g"
      },
      "execution_count": 75,
      "outputs": []
    },
    {
      "cell_type": "code",
      "source": [
        "# Wc = tf.keras.layers.Dense(400*2, activation=tf.math.tanh,\n",
        "#                                     use_bias=False)"
      ],
      "metadata": {
        "id": "aW6cIUeTmbrt"
      },
      "execution_count": 76,
      "outputs": []
    },
    {
      "cell_type": "code",
      "source": [
        "# attention_vector = Wc(decoder_concat_input)"
      ],
      "metadata": {
        "id": "zudYv8uYv5pK"
      },
      "execution_count": 77,
      "outputs": []
    },
    {
      "cell_type": "code",
      "source": [
        "# sample_decoder_output = dec_lstm(\n",
        "#     tf.random.uniform((1, 13, 50)), initial_state=sample_enc_states\n",
        "# )\n",
        "# print('Decoder output shape:',sample_decoder_output[0].shape)"
      ],
      "metadata": {
        "id": "le-AqCAr0Dql"
      },
      "execution_count": 78,
      "outputs": []
    },
    {
      "cell_type": "code",
      "source": [
        "# sample_decoder_concat_input = Concatenate(axis=-1)([sample_context_vector, sample_output])\n",
        "\n",
        "# print(sample_decoder_concat_input.shape)"
      ],
      "metadata": {
        "id": "kbhxuX1zCH19"
      },
      "execution_count": 79,
      "outputs": []
    },
    {
      "cell_type": "code",
      "source": [
        "# sample_attention_vector = Wc(sample_decoder_concat_input)\n",
        "\n",
        "# print(sample_attention_vector.shape)"
      ],
      "metadata": {
        "id": "1_I95CpGw0wz"
      },
      "execution_count": 80,
      "outputs": []
    },
    {
      "cell_type": "code",
      "source": [
        "# dec_dense = Dense(VOCAB_SIZE, activation='softmax')\n",
        "# final_output = dec_dense(attention_vector)"
      ],
      "metadata": {
        "id": "Y411ud-ud8GZ"
      },
      "execution_count": 81,
      "outputs": []
    },
    {
      "cell_type": "code",
      "source": [
        "# sample_attention_vector = tf.random.uniform((1, 13,800))\n",
        "# sample_output = dec_dense(sample_attention_vector)\n",
        "\n",
        "# print('Output shape:', sample_output.shape)"
      ],
      "metadata": {
        "id": "77R9bjg2xJ62"
      },
      "execution_count": 82,
      "outputs": []
    },
    {
      "cell_type": "markdown",
      "source": [
        "#Model"
      ],
      "metadata": {
        "id": "CIJwvpSn9dfi"
      }
    },
    {
      "cell_type": "code",
      "source": [
        "model = Model([enc_inp, dec_inp], logits)"
      ],
      "metadata": {
        "id": "O5Aq2Y-cslLR"
      },
      "execution_count": 83,
      "outputs": []
    },
    {
      "cell_type": "code",
      "source": [
        "model.compile(loss='categorical_crossentropy',metrics=['acc'],optimizer='adam')"
      ],
      "metadata": {
        "id": "IXVjTflWsn_B"
      },
      "execution_count": 84,
      "outputs": []
    },
    {
      "cell_type": "code",
      "source": [
        "model.summary()"
      ],
      "metadata": {
        "colab": {
          "base_uri": "https://localhost:8080/"
        },
        "id": "Lzj5QvOOsqBy",
        "outputId": "b605d793-0f20-4ad4-abc9-ea2c2287d882"
      },
      "execution_count": 85,
      "outputs": [
        {
          "output_type": "stream",
          "name": "stdout",
          "text": [
            "Model: \"model\"\n",
            "__________________________________________________________________________________________________\n",
            " Layer (type)                   Output Shape         Param #     Connected to                     \n",
            "==================================================================================================\n",
            " input_1 (InputLayer)           [(None, 13)]         0           []                               \n",
            "                                                                                                  \n",
            " input_2 (InputLayer)           [(None, 13)]         0           []                               \n",
            "                                                                                                  \n",
            " encoder (Encoder)              ((None, 13, 800),    1594600     ['input_1[0][0]']                \n",
            "                                 [(None, 800),                                                    \n",
            "                                 (None, 800)])                                                    \n",
            "                                                                                                  \n",
            " decoder (Decoder)              ((None, 13, 3027),   7859977     ['input_2[0][0]',                \n",
            "                                 (None, 13, 13),                  'encoder[0][0]',                \n",
            "                                 [(None, 800),                    'encoder[0][1]',                \n",
            "                                 (None, 800)])                    'encoder[0][2]']                \n",
            "                                                                                                  \n",
            "==================================================================================================\n",
            "Total params: 9,454,577\n",
            "Trainable params: 9,454,577\n",
            "Non-trainable params: 0\n",
            "__________________________________________________________________________________________________\n"
          ]
        }
      ]
    },
    {
      "cell_type": "code",
      "source": [
        "import time\n",
        "start = time.time()\n",
        "H = model.fit([encoder_inp, decoder_inp],decoder_final_output,epochs=50, batch_size=128)\n",
        "training_time = time.time() - start"
      ],
      "metadata": {
        "id": "gW-uQWWytQ_S",
        "colab": {
          "base_uri": "https://localhost:8080/"
        },
        "outputId": "568a6365-49e7-40c8-8b61-57db56f92eb7"
      },
      "execution_count": 86,
      "outputs": [
        {
          "output_type": "stream",
          "name": "stdout",
          "text": [
            "Epoch 1/50\n",
            "235/235 [==============================] - 21s 58ms/step - loss: 3.3192 - acc: 0.4694\n",
            "Epoch 2/50\n",
            "235/235 [==============================] - 13s 56ms/step - loss: 2.8581 - acc: 0.5126\n",
            "Epoch 3/50\n",
            "235/235 [==============================] - 13s 56ms/step - loss: 2.6966 - acc: 0.5332\n",
            "Epoch 4/50\n",
            "235/235 [==============================] - 13s 57ms/step - loss: 2.6112 - acc: 0.5416\n",
            "Epoch 5/50\n",
            "235/235 [==============================] - 14s 58ms/step - loss: 2.5510 - acc: 0.5458\n",
            "Epoch 6/50\n",
            "235/235 [==============================] - 14s 58ms/step - loss: 2.4982 - acc: 0.5491\n",
            "Epoch 7/50\n",
            "235/235 [==============================] - 13s 57ms/step - loss: 2.4521 - acc: 0.5521\n",
            "Epoch 8/50\n",
            "235/235 [==============================] - 13s 57ms/step - loss: 2.4089 - acc: 0.5545\n",
            "Epoch 9/50\n",
            "235/235 [==============================] - 13s 57ms/step - loss: 2.3663 - acc: 0.5574\n",
            "Epoch 10/50\n",
            "235/235 [==============================] - 13s 57ms/step - loss: 2.3251 - acc: 0.5600\n",
            "Epoch 11/50\n",
            "235/235 [==============================] - 14s 59ms/step - loss: 2.2815 - acc: 0.5628\n",
            "Epoch 12/50\n",
            "235/235 [==============================] - 14s 58ms/step - loss: 2.2347 - acc: 0.5657\n",
            "Epoch 13/50\n",
            "235/235 [==============================] - 14s 58ms/step - loss: 2.1836 - acc: 0.5691\n",
            "Epoch 14/50\n",
            "235/235 [==============================] - 13s 57ms/step - loss: 2.1266 - acc: 0.5737\n",
            "Epoch 15/50\n",
            "235/235 [==============================] - 13s 57ms/step - loss: 2.0597 - acc: 0.5791\n",
            "Epoch 16/50\n",
            "235/235 [==============================] - 14s 58ms/step - loss: 1.9772 - acc: 0.5873\n",
            "Epoch 17/50\n",
            "235/235 [==============================] - 14s 57ms/step - loss: 1.8814 - acc: 0.5992\n",
            "Epoch 18/50\n",
            "235/235 [==============================] - 13s 57ms/step - loss: 1.7704 - acc: 0.6159\n",
            "Epoch 19/50\n",
            "235/235 [==============================] - 14s 58ms/step - loss: 1.6479 - acc: 0.6371\n",
            "Epoch 20/50\n",
            "235/235 [==============================] - 14s 58ms/step - loss: 1.5249 - acc: 0.6600\n",
            "Epoch 21/50\n",
            "235/235 [==============================] - 14s 58ms/step - loss: 1.4014 - acc: 0.6862\n",
            "Epoch 22/50\n",
            "235/235 [==============================] - 14s 59ms/step - loss: 1.2861 - acc: 0.7102\n",
            "Epoch 23/50\n",
            "235/235 [==============================] - 14s 58ms/step - loss: 1.1853 - acc: 0.7329\n",
            "Epoch 24/50\n",
            "235/235 [==============================] - 13s 57ms/step - loss: 1.0895 - acc: 0.7548\n",
            "Epoch 25/50\n",
            "235/235 [==============================] - 14s 58ms/step - loss: 1.0079 - acc: 0.7729\n",
            "Epoch 26/50\n",
            "235/235 [==============================] - 14s 58ms/step - loss: 0.9388 - acc: 0.7883\n",
            "Epoch 27/50\n",
            "235/235 [==============================] - 14s 58ms/step - loss: 0.8769 - acc: 0.8019\n",
            "Epoch 28/50\n",
            "235/235 [==============================] - 14s 58ms/step - loss: 0.8234 - acc: 0.8139\n",
            "Epoch 29/50\n",
            "235/235 [==============================] - 14s 58ms/step - loss: 0.7765 - acc: 0.8240\n",
            "Epoch 30/50\n",
            "235/235 [==============================] - 14s 58ms/step - loss: 0.7339 - acc: 0.8332\n",
            "Epoch 31/50\n",
            "235/235 [==============================] - 14s 58ms/step - loss: 0.7009 - acc: 0.8407\n",
            "Epoch 32/50\n",
            "235/235 [==============================] - 14s 58ms/step - loss: 0.6687 - acc: 0.8472\n",
            "Epoch 33/50\n",
            "235/235 [==============================] - 14s 58ms/step - loss: 0.6376 - acc: 0.8538\n",
            "Epoch 34/50\n",
            "235/235 [==============================] - 14s 58ms/step - loss: 0.6147 - acc: 0.8587\n",
            "Epoch 35/50\n",
            "235/235 [==============================] - 14s 58ms/step - loss: 0.5931 - acc: 0.8631\n",
            "Epoch 36/50\n",
            "235/235 [==============================] - 14s 58ms/step - loss: 0.5729 - acc: 0.8676\n",
            "Epoch 37/50\n",
            "235/235 [==============================] - 14s 58ms/step - loss: 0.5556 - acc: 0.8716\n",
            "Epoch 38/50\n",
            "235/235 [==============================] - 14s 58ms/step - loss: 0.5418 - acc: 0.8740\n",
            "Epoch 39/50\n",
            "235/235 [==============================] - 14s 58ms/step - loss: 0.5279 - acc: 0.8766\n",
            "Epoch 40/50\n",
            "235/235 [==============================] - 14s 58ms/step - loss: 0.5162 - acc: 0.8796\n",
            "Epoch 41/50\n",
            "235/235 [==============================] - 14s 58ms/step - loss: 0.5045 - acc: 0.8816\n",
            "Epoch 42/50\n",
            "235/235 [==============================] - 14s 58ms/step - loss: 0.4940 - acc: 0.8840\n",
            "Epoch 43/50\n",
            "235/235 [==============================] - 14s 59ms/step - loss: 0.4874 - acc: 0.8850\n",
            "Epoch 44/50\n",
            "235/235 [==============================] - 14s 58ms/step - loss: 0.4782 - acc: 0.8872\n",
            "Epoch 45/50\n",
            "235/235 [==============================] - 14s 58ms/step - loss: 0.4723 - acc: 0.8886\n",
            "Epoch 46/50\n",
            "235/235 [==============================] - 14s 58ms/step - loss: 0.4683 - acc: 0.8892\n",
            "Epoch 47/50\n",
            "235/235 [==============================] - 14s 58ms/step - loss: 0.4614 - acc: 0.8901\n",
            "Epoch 48/50\n",
            "235/235 [==============================] - 14s 58ms/step - loss: 0.4573 - acc: 0.8914\n",
            "Epoch 49/50\n",
            "235/235 [==============================] - 14s 58ms/step - loss: 0.4496 - acc: 0.8927\n",
            "Epoch 50/50\n",
            "235/235 [==============================] - 14s 58ms/step - loss: 0.4474 - acc: 0.8931\n"
          ]
        }
      ]
    },
    {
      "cell_type": "code",
      "source": [
        "training_time"
      ],
      "metadata": {
        "colab": {
          "base_uri": "https://localhost:8080/"
        },
        "id": "h0QxynULnby6",
        "outputId": "ee85e33b-095e-4118-cd5d-e678c5f647ce"
      },
      "execution_count": 87,
      "outputs": [
        {
          "output_type": "execute_result",
          "data": {
            "text/plain": [
              "693.6489100456238"
            ]
          },
          "metadata": {},
          "execution_count": 87
        }
      ]
    },
    {
      "cell_type": "code",
      "source": [
        "import matplotlib.pyplot as plt \n",
        "plt.plot(H.history['loss'])\n",
        "# plt.plot(history.history['val_loss'])\n",
        "plt.title('model loss')\n",
        "plt.ylabel('loss')\n",
        "plt.xlabel('epoch')\n",
        "# plt.legend(['train', 'test'], loc='upper left')\n",
        "plt.show()"
      ],
      "metadata": {
        "colab": {
          "base_uri": "https://localhost:8080/",
          "height": 295
        },
        "id": "Nx6zBIIOHmVZ",
        "outputId": "350a51fa-8de3-4bdb-d86f-8621845aebb3"
      },
      "execution_count": 88,
      "outputs": [
        {
          "output_type": "display_data",
          "data": {
            "text/plain": [
              "<Figure size 432x288 with 1 Axes>"
            ],
            "image/png": "[encoded data removed]"
          },
          "metadata": {
            "needs_background": "light"
          }
        }
      ]
    },
    {
      "cell_type": "code",
      "source": [
        "import matplotlib.pyplot as plt \n",
        "plt.plot(H.history['acc'])\n",
        "# plt.plot(history.history['val_loss'])\n",
        "plt.title('model accuracy')\n",
        "plt.ylabel('accuracy')\n",
        "plt.xlabel('epoch')\n",
        "# plt.legend(['train', 'test'], loc='upper left')\n",
        "plt.show()"
      ],
      "metadata": {
        "colab": {
          "base_uri": "https://localhost:8080/",
          "height": 295
        },
        "id": "WEIywuSLibo1",
        "outputId": "1891c451-2dbd-47f7-975c-539de9d72b7f"
      },
      "execution_count": 89,
      "outputs": [
        {
          "output_type": "display_data",
          "data": {
            "text/plain": [
              "<Figure size 432x288 with 1 Axes>"
            ],
            "image/png": "[encoded data removed]"
          },
          "metadata": {
            "needs_background": "light"
          }
        }
      ]
    },
    {
      "cell_type": "code",
      "source": [
        "plt.plot(H.history['loss'])\n",
        "# plt.plot(history.history['val_loss'])\n",
        "plt.title('model loss')\n",
        "plt.ylabel('loss')\n",
        "plt.xlabel('epoch')\n",
        "plt.legend(['train', 'test'], loc='upper left')\n",
        "plt.show()"
      ],
      "metadata": {
        "id": "0unV26H3iNHf"
      },
      "execution_count": null,
      "outputs": []
    },
    {
      "cell_type": "markdown",
      "source": [
        "#Test"
      ],
      "metadata": {
        "id": "1Zshu7us3CX-"
      }
    },
    {
      "cell_type": "markdown",
      "source": [
        "##Define"
      ],
      "metadata": {
        "id": "kqH_q8ZmoXj_"
      }
    },
    {
      "cell_type": "code",
      "source": [
        "enc_model = tf.keras.models.Model(enc_inp, [encoder_outputs, enc_states])\n",
        "\n"
      ],
      "metadata": {
        "id": "_qL1zZ0CPWXm"
      },
      "execution_count": 88,
      "outputs": []
    },
    {
      "cell_type": "code",
      "source": [
        "enc_model.summary()"
      ],
      "metadata": {
        "colab": {
          "base_uri": "https://localhost:8080/"
        },
        "id": "hmBWVPiDjhJx",
        "outputId": "9a0228ac-4455-4d6e-a356-154b06faa509"
      },
      "execution_count": 89,
      "outputs": [
        {
          "output_type": "stream",
          "name": "stdout",
          "text": [
            "Model: \"model_1\"\n",
            "_________________________________________________________________\n",
            " Layer (type)                Output Shape              Param #   \n",
            "=================================================================\n",
            " input_1 (InputLayer)        [(None, 13)]              0         \n",
            "                                                                 \n",
            " encoder (Encoder)           ((None, 13, 800),         1594600   \n",
            "                              [(None, 800),                      \n",
            "                              (None, 800)])                      \n",
            "                                                                 \n",
            "=================================================================\n",
            "Total params: 1,594,600\n",
            "Trainable params: 1,594,600\n",
            "Non-trainable params: 0\n",
            "_________________________________________________________________\n"
          ]
        }
      ]
    },
    {
      "cell_type": "code",
      "source": [
        "encoder_outputs.shape"
      ],
      "metadata": {
        "colab": {
          "base_uri": "https://localhost:8080/"
        },
        "id": "WigVZBcP8ILu",
        "outputId": "46a68449-e308-4a5a-cc95-9d0f931d0bec"
      },
      "execution_count": 90,
      "outputs": [
        {
          "output_type": "execute_result",
          "data": {
            "text/plain": [
              "TensorShape([None, 13, 800])"
            ]
          },
          "metadata": {},
          "execution_count": 90
        }
      ]
    },
    {
      "cell_type": "code",
      "source": [
        "decoder_state_input_h = tf.keras.layers.Input(shape=( 400 * 2,))\n",
        "decoder_state_input_c = tf.keras.layers.Input(shape=( 400 * 2,))\n",
        "\n",
        "decoder_states_inputs = [decoder_state_input_h, decoder_state_input_c]\n",
        "\n",
        "decoder_enc_output_inputs = tf.keras.layers.Input(shape=( len_seq, 400 * 2,))\n",
        "\n",
        "decoder_outputs, attention_weights, decoder_states = decoder(\n",
        "    dec_inp=dec_inp,\n",
        "    enc_output=decoder_enc_output_inputs, \n",
        "    state=decoder_states_inputs\n",
        ")\n",
        "\n",
        "\n",
        "#decoder_output = dec_dense(decoder_outputs)\n",
        "\n",
        "dec_model = tf.keras.models.Model([dec_inp, decoder_enc_output_inputs] + decoder_states_inputs,\n",
        "                                      [decoder_outputs, attention_weights]+ decoder_states)"
      ],
      "metadata": {
        "id": "ipS8gDgV6NPD"
      },
      "execution_count": 91,
      "outputs": []
    },
    {
      "cell_type": "code",
      "source": [
        "dec_model.compile(loss='categorical_crossentropy',metrics=['acc'],optimizer='adam')"
      ],
      "metadata": {
        "id": "K5_hYhFAwtvo"
      },
      "execution_count": 92,
      "outputs": []
    },
    {
      "cell_type": "code",
      "source": [
        "dec_model.summary()"
      ],
      "metadata": {
        "colab": {
          "base_uri": "https://localhost:8080/"
        },
        "id": "ett9t1BQjd03",
        "outputId": "5428aad3-2643-417b-dbef-336e6dd2a298"
      },
      "execution_count": 93,
      "outputs": [
        {
          "output_type": "stream",
          "name": "stdout",
          "text": [
            "Model: \"model_2\"\n",
            "__________________________________________________________________________________________________\n",
            " Layer (type)                   Output Shape         Param #     Connected to                     \n",
            "==================================================================================================\n",
            " input_2 (InputLayer)           [(None, 13)]         0           []                               \n",
            "                                                                                                  \n",
            " input_5 (InputLayer)           [(None, 13, 800)]    0           []                               \n",
            "                                                                                                  \n",
            " input_3 (InputLayer)           [(None, 800)]        0           []                               \n",
            "                                                                                                  \n",
            " input_4 (InputLayer)           [(None, 800)]        0           []                               \n",
            "                                                                                                  \n",
            " decoder (Decoder)              ((None, 13, 3027),   7859977     ['input_2[0][0]',                \n",
            "                                 (None, 13, 13),                  'input_5[0][0]',                \n",
            "                                 [(None, 800),                    'input_3[0][0]',                \n",
            "                                 (None, 800)])                    'input_4[0][0]']                \n",
            "                                                                                                  \n",
            "==================================================================================================\n",
            "Total params: 7,859,977\n",
            "Trainable params: 7,859,977\n",
            "Non-trainable params: 0\n",
            "__________________________________________________________________________________________________\n"
          ]
        }
      ]
    },
    {
      "cell_type": "code",
      "source": [
        "dec_model.save('decoder_model.h5')\n",
        "enc_model.save('encoder_model.h5')"
      ],
      "metadata": {
        "colab": {
          "base_uri": "https://localhost:8080/"
        },
        "id": "SNr501o-tU5U",
        "outputId": "66a70191-bbf6-4407-c75b-03efaccf4fcb"
      },
      "execution_count": null,
      "outputs": [
        {
          "output_type": "stream",
          "name": "stdout",
          "text": [
            "WARNING:tensorflow:Compiled the loaded model, but the compiled metrics have yet to be built. `model.compile_metrics` will be empty until you train or evaluate the model.\n"
          ]
        }
      ]
    },
    {
      "cell_type": "markdown",
      "source": [
        "##Inference"
      ],
      "metadata": {
        "id": "CKhzFcIPoarK"
      }
    },
    {
      "cell_type": "code",
      "source": [
        "from keras.preprocessing.sequence import pad_sequences\n",
        "print(\"##########################################\")\n",
        "print(\"#       start chatting ver. 1.0          #\")\n",
        "print(\"##########################################\")\n",
        "\n",
        "\n",
        "prepro1 = \"\"\n",
        "while prepro1 != 'q':\n",
        "    \n",
        "    prepro1 = input(\"you : \")\n",
        "    try:\n",
        "        prepro1 = clean_text(prepro1)\n",
        "        prepro = [prepro1]\n",
        "        \n",
        "        txt = []\n",
        "        for x in prepro:\n",
        "            lst = []\n",
        "            for y in x.split():\n",
        "                try:\n",
        "                    lst.append(vocab[y])\n",
        "                except:\n",
        "                    lst.append(vocab['<OUT>'])\n",
        "            txt.append(lst)\n",
        "        txt = pad_sequences(txt, 13, padding='post')\n",
        "\n",
        "\n",
        "        ###\n",
        "        enc_op, stat = enc_model.predict( txt )\n",
        "\n",
        "        # empty_target_seq = np.zeros( ( 1 , 1) )\n",
        "        # empty_target_seq[0, 0] = vocab['<SOS>']\n",
        "\n",
        "        start_index = vocab['<SOS>']\n",
        "        empty_target_seq = tf.constant([[start_index]])\n",
        "        stop_condition = False\n",
        "        decoded_translation = ''\n",
        "\n",
        "\n",
        "        while not stop_condition :\n",
        "\n",
        "            dec_outputs , attention_weights, decoder_states_h, decoder_states_c = dec_model.predict([ empty_target_seq, enc_op ] + stat )\n",
        "\n",
        "            ###\n",
        "            ###########################\n",
        "            # w1_query_op = W1(dec_outputs)\n",
        "            # w2_key_op = W2(enc_op)\n",
        "\n",
        "            # context_vector_op, attn_weight_op = attn_layer(\n",
        "            #     [w1_query_op, enc_op, w2_key_op],\n",
        "            #     return_attention_scores = True\n",
        "            # )\n",
        "            # decoder_concat_input = Concatenate(axis=-1)([context_vector_op, dec_outputs])\n",
        "            # decoder_concat_input = Wc(decoder_concat_input)\n",
        "            # decoder_concat_input = dec_dense(decoder_concat_input)\n",
        "            ###########################\n",
        "\n",
        "            sampled_word_index = np.argmax( dec_outputs[0, -1, :] )\n",
        "\n",
        "            sampled_word = inv_vocab[sampled_word_index] + ' '\n",
        "\n",
        "            if sampled_word != '<EOS> ':\n",
        "                decoded_translation += sampled_word           \n",
        "\n",
        "\n",
        "            if sampled_word == '<EOS> ' or len(decoded_translation.split()) > 13:\n",
        "                stop_condition = True\n",
        "\n",
        "            # empty_target_seq = np.zeros( ( 1 , 1 ) )  \n",
        "            empty_target_seq = tf.constant([[sampled_word_index]])\n",
        "            stat = [decoder_states_h, decoder_states_c]\n",
        "\n",
        "        print(\"chatbot attention : \", decoded_translation )\n",
        "        print(\"==============================================\")\n",
        "\n",
        "    except:\n",
        "        print(\"sorry didn't got you , please type again :( \")"
      ],
      "metadata": {
        "colab": {
          "base_uri": "https://localhost:8080/"
        },
        "id": "ub8wnTuHPO0I",
        "outputId": "933b8c1e-df8c-461d-e7d5-302d01c11160"
      },
      "execution_count": 94,
      "outputs": [
        {
          "output_type": "stream",
          "name": "stdout",
          "text": [
            "##########################################\n",
            "#       start chatting ver. 1.0          #\n",
            "##########################################\n",
            "you : Hi\n",
            "WARNING:tensorflow:Model was constructed with shape (None, 13) for input KerasTensor(type_spec=TensorSpec(shape=(None, 13), dtype=tf.float32, name='input_2'), name='input_2', description=\"created by layer 'input_2'\"), but it was called on an input with incompatible shape (None, 1).\n",
            "chatbot attention :  hi \n",
            "==============================================\n",
            "you : Hello\n",
            "chatbot attention :  <OUT> \n",
            "==============================================\n",
            "you : Who are you\n",
            "chatbot attention :  i am your son \n",
            "==============================================\n",
            "you : How could you be my son\n",
            "chatbot attention :  <OUT> no other \n",
            "==============================================\n",
            "you : I have a daughter\n",
            "chatbot attention :  you want a man you got a <OUT> you have a \n",
            "==============================================\n",
            "you : I love you son\n",
            "chatbot attention :  yeah am you really bad \n",
            "==============================================\n",
            "you : I love you\n",
            "chatbot attention :  i love you walter did anyone ever call you anything other \n",
            "==============================================\n",
            "you : Do you have a crush\n",
            "chatbot attention :  no \n",
            "==============================================\n",
            "you : I have a crush\n",
            "chatbot attention :  the <OUT> came to your house he is got a bit \n",
            "==============================================\n",
            "you : I have a crush that is you\n",
            "chatbot attention :  you have a <OUT> you didnt have a hard choice your \n",
            "==============================================\n",
            "you : Do you want to sleep\n",
            "chatbot attention :  no \n",
            "==============================================\n",
            "you : Good night\n",
            "chatbot attention :  goodbye \n",
            "==============================================\n",
            "you : Good morning\n",
            "chatbot attention :  i thought i would stay the night \n",
            "==============================================\n",
            "you : Good bye\n",
            "chatbot attention :  i will see you there \n",
            "==============================================\n",
            "you : Bye\n",
            "chatbot attention :  monica \n",
            "==============================================\n",
            "you : Who is monica\n",
            "chatbot attention :  <OUT> \n",
            "==============================================\n",
            "you : Yes\n",
            "chatbot attention :  i was thinking that <OUT> know while i was up there \n",
            "==============================================\n",
            "you : q\n",
            "chatbot attention :  i was calling yesterday \n",
            "==============================================\n"
          ]
        }
      ]
    },
    {
      "cell_type": "code",
      "source": [
        "with tf.keras.utils.custom_object_scope({'Decoder': Decoder}):\n",
        "    new_dec = tf.keras.models.load_model('decoder_model.h5')"
      ],
      "metadata": {
        "id": "0-tJMHm5_t3s"
      },
      "execution_count": null,
      "outputs": []
    },
    {
      "cell_type": "code",
      "source": [
        "with tf.keras.utils.custom_object_scope({'Encoder': Encoder}):\n",
        "    new_enc = tf.keras.models.load_model('encoder_model.h5')\n"
      ],
      "metadata": {
        "colab": {
          "base_uri": "https://localhost:8080/"
        },
        "id": "4PBOKibQ-DM4",
        "outputId": "ff9c03e1-69ee-41c2-c36d-6f92bf5a87e9"
      },
      "execution_count": null,
      "outputs": [
        {
          "output_type": "stream",
          "name": "stdout",
          "text": [
            "WARNING:tensorflow:No training configuration found in the save file, so the model was *not* compiled. Compile it manually.\n"
          ]
        },
        {
          "output_type": "stream",
          "name": "stderr",
          "text": [
            "WARNING:tensorflow:No training configuration found in the save file, so the model was *not* compiled. Compile it manually.\n"
          ]
        }
      ]
    },
    {
      "cell_type": "code",
      "source": [
        "from keras.preprocessing.sequence import pad_sequences\n",
        "print(\"##########################################\")\n",
        "print(\"#       start chatting ver. 1.0          #\")\n",
        "print(\"##########################################\")\n",
        "\n",
        "\n",
        "prepro1 = \"\"\n",
        "while prepro1 != 'q':\n",
        "    \n",
        "    prepro1 = input(\"you : \")\n",
        "    try:\n",
        "        prepro1 = clean_text(prepro1)\n",
        "        prepro = [prepro1]\n",
        "        \n",
        "        txt = []\n",
        "        for x in prepro:\n",
        "            lst = []\n",
        "            for y in x.split():\n",
        "                try:\n",
        "                    lst.append(vocab[y])\n",
        "                except:\n",
        "                    lst.append(vocab['<OUT>'])\n",
        "            txt.append(lst)\n",
        "        txt = pad_sequences(txt, 13, padding='post')\n",
        "\n",
        "\n",
        "        ###\n",
        "        enc_op, stat = new_enc.predict( txt )\n",
        "\n",
        "        # empty_target_seq = np.zeros( ( 1 , 1) )\n",
        "        # empty_target_seq[0, 0] = vocab['<SOS>']\n",
        "\n",
        "        start_index = vocab['<SOS>']\n",
        "        empty_target_seq = tf.constant([[start_index]])\n",
        "        stop_condition = False\n",
        "        decoded_translation = ''\n",
        "\n",
        "\n",
        "        while not stop_condition :\n",
        "\n",
        "            dec_outputs , attention_weights, decoder_states_h, decoder_states_c = new_dec.predict([ empty_target_seq, enc_op ] + stat )\n",
        "\n",
        "            ###\n",
        "            ###########################\n",
        "            # w1_query_op = W1(dec_outputs)\n",
        "            # w2_key_op = W2(enc_op)\n",
        "\n",
        "            # context_vector_op, attn_weight_op = attn_layer(\n",
        "            #     [w1_query_op, enc_op, w2_key_op],\n",
        "            #     return_attention_scores = True\n",
        "            # )\n",
        "            # decoder_concat_input = Concatenate(axis=-1)([context_vector_op, dec_outputs])\n",
        "            # decoder_concat_input = Wc(decoder_concat_input)\n",
        "            # decoder_concat_input = dec_dense(decoder_concat_input)\n",
        "            ###########################\n",
        "\n",
        "            sampled_word_index = np.argmax( dec_outputs[0, -1, :] )\n",
        "\n",
        "            sampled_word = inv_vocab[sampled_word_index] + ' '\n",
        "\n",
        "            if sampled_word != '<EOS> ':\n",
        "                decoded_translation += sampled_word           \n",
        "\n",
        "\n",
        "            if sampled_word == '<EOS> ' or len(decoded_translation.split()) > 13:\n",
        "                stop_condition = True\n",
        "\n",
        "            # empty_target_seq = np.zeros( ( 1 , 1 ) )  \n",
        "            empty_target_seq = tf.constant([[sampled_word_index]])\n",
        "            stat = [decoder_states_h, decoder_states_c]\n",
        "\n",
        "        print(\"chatbot attention : \", decoded_translation )\n",
        "        print(\"==============================================\")\n",
        "\n",
        "    except:\n",
        "        print(\"sorry didn't got you , please type again :( \")"
      ],
      "metadata": {
        "colab": {
          "base_uri": "https://localhost:8080/"
        },
        "id": "gKMxnOnDBfAp",
        "outputId": "83b488fc-3de6-4968-e095-aa66a9f808fd"
      },
      "execution_count": null,
      "outputs": [
        {
          "output_type": "stream",
          "name": "stdout",
          "text": [
            "##########################################\n",
            "#       start chatting ver. 1.0          #\n",
            "##########################################\n",
            "you : hello\n",
            "WARNING:tensorflow:Model was constructed with shape (None, 13) for input KerasTensor(type_spec=TensorSpec(shape=(None, 13), dtype=tf.float32, name='input_2'), name='input_2', description=\"created by layer 'input_2'\"), but it was called on an input with incompatible shape (None, 1).\n"
          ]
        },
        {
          "output_type": "stream",
          "name": "stderr",
          "text": [
            "WARNING:tensorflow:Model was constructed with shape (None, 13) for input KerasTensor(type_spec=TensorSpec(shape=(None, 13), dtype=tf.float32, name='input_2'), name='input_2', description=\"created by layer 'input_2'\"), but it was called on an input with incompatible shape (None, 1).\n"
          ]
        },
        {
          "output_type": "stream",
          "name": "stdout",
          "text": [
            "chatbot attention :  hi its me just who you wanted to talk to right \n",
            "==============================================\n",
            "you : how can you know\n",
            "chatbot attention :  no \n",
            "==============================================\n",
            "you : Do you know\n",
            "chatbot attention :  no \n",
            "==============================================\n",
            "you : I love you\n",
            "chatbot attention :  i love you walter did anyone ever call you anything other \n",
            "==============================================\n",
            "you : I love you too\n",
            "chatbot attention :  i love you dad i feel well i have to but \n",
            "==============================================\n",
            "you : I want to kiss you\n",
            "chatbot attention :  edward that is okay \n",
            "==============================================\n",
            "you : hello\n",
            "chatbot attention :  hi its me just who you wanted to talk to right \n",
            "==============================================\n",
            "you : what's your name?\n",
            "chatbot attention :  the baby the hell theres a football program \n",
            "==============================================\n",
            "you : Your name\n",
            "chatbot attention :  thomas kent i would like to do a speech by a \n",
            "==============================================\n",
            "you : Remember\n",
            "chatbot attention :  no that was years ago i have lived years since then \n",
            "==============================================\n",
            "you : How old are you\n",
            "chatbot attention :  17 \n",
            "==============================================\n",
            "you : Bye never want to see you\n",
            "chatbot attention :  i am <OUT> \n",
            "==============================================\n",
            "you : Bye forever\n",
            "chatbot attention :  and thanks \n",
            "==============================================\n",
            "you : Bye\n",
            "chatbot attention :  bye \n",
            "==============================================\n",
            "you : q\n",
            "chatbot attention :  i am <OUT> \n",
            "==============================================\n"
          ]
        }
      ]
    }
  ]
}